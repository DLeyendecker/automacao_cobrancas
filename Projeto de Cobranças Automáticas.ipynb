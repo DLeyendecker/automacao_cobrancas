{
 "cells": [
  {
   "cell_type": "markdown",
   "id": "741337d7",
   "metadata": {},
   "source": [
    "## Instalando a Biblioteca: "
   ]
  },
  {
   "cell_type": "code",
   "execution_count": null,
   "id": "065b4942",
   "metadata": {},
   "outputs": [],
   "source": [
    "%pip install pywin32"
   ]
  },
  {
   "cell_type": "markdown",
   "id": "fc3d46f5",
   "metadata": {},
   "source": [
    "## Importando as Bibliotecas:"
   ]
  },
  {
   "cell_type": "code",
   "execution_count": null,
   "id": "78773003",
   "metadata": {},
   "outputs": [],
   "source": [
    "import win32com.client as client\n",
    "import pandas as pd\n",
    "import datetime as dt"
   ]
  },
  {
   "cell_type": "markdown",
   "id": "a3db560c",
   "metadata": {},
   "source": [
    "## Lendo o Arquivo Excel:"
   ]
  },
  {
   "cell_type": "code",
   "execution_count": null,
   "id": "6270d8d8",
   "metadata": {
    "scrolled": true
   },
   "outputs": [],
   "source": [
    "tabela = pd.read_excel('Contas a Receber.xlsx')\n",
    "display(tabela)\n",
    "tabela.info()"
   ]
  },
  {
   "cell_type": "markdown",
   "id": "e5cf1a90",
   "metadata": {},
   "source": [
    "## Verificando Data de hoje:"
   ]
  },
  {
   "cell_type": "code",
   "execution_count": null,
   "id": "ad3deb29",
   "metadata": {},
   "outputs": [],
   "source": [
    "hoje = dt.datetime.now()\n",
    "print(hoje)"
   ]
  },
  {
   "cell_type": "markdown",
   "id": "67a37fc5",
   "metadata": {},
   "source": [
    "## Coletando apenas os dados de clientes que estão devendo:"
   ]
  },
  {
   "cell_type": "code",
   "execution_count": null,
   "id": "7e904ebc",
   "metadata": {},
   "outputs": [],
   "source": [
    "tabela_devedores = tabela.loc[tabela['Status']=='Em aberto']\n",
    "display(tabela_devedores)\n",
    "tabela_devedores = tabela_devedores.loc[tabela_devedores['Data Prevista para pagamento']<hoje]\n",
    "display(tabela_devedores)\n"
   ]
  },
  {
   "cell_type": "markdown",
   "id": "deacbea6",
   "metadata": {},
   "source": [
    "## Como enviar um e-mail via Outlook:"
   ]
  },
  {
   "cell_type": "code",
   "execution_count": null,
   "id": "560e7ebb",
   "metadata": {},
   "outputs": [],
   "source": [
    "outlook = client.Dispatch('Outlook.Application')"
   ]
  },
  {
   "cell_type": "code",
   "execution_count": null,
   "id": "ad15bb81",
   "metadata": {},
   "outputs": [],
   "source": [
    "emissor = outlook.session.Accounts['d.leyendecker@live.com']"
   ]
  },
  {
   "cell_type": "code",
   "execution_count": null,
   "id": "e0fb267c",
   "metadata": {},
   "outputs": [],
   "source": [
    "mensagem = outlook.CreateItem(0)\n",
    "mensagem.Display()\n",
    "mensagem.To = 'meuclientedevedor+1@gmail.com'\n",
    "mensagem.Subject = 'Atraso no Pagamento'\n",
    "mensagem.Body = '''\n",
    "\n",
    "ESCREVER ALGO PARA O CLIENTE\n",
    "\n",
    "'''\n",
    "mensagem._oleobj_.Invoke(*(64209,0,8,0,emissor))\n",
    "mensagem.Save()\n",
    "mensagem.Send()\n",
    "\n"
   ]
  },
  {
   "cell_type": "code",
   "execution_count": null,
   "id": "ce3d023f",
   "metadata": {},
   "outputs": [],
   "source": [
    "#mensagem = outlook.CreateItem(0)\n",
    "#mensagem.Display()\n",
    "#mensagem.To = \n",
    "#CC\n",
    "#BCC\n",
    "#Subject\n",
    "#Body\n",
    "#mensagem._oleobj_.Invoke(*(64209,0,8,0,destinatario))\n",
    "#mensagem.Save()\n",
    "#mensagem.Send()"
   ]
  },
  {
   "cell_type": "code",
   "execution_count": null,
   "id": "bd328592",
   "metadata": {
    "scrolled": true
   },
   "outputs": [],
   "source": [
    "dados= tabela_devedores[['Valor em aberto','Data Prevista para pagamento','E-mail','NF']].values.tolist()\n",
    "print(dados)"
   ]
  },
  {
   "cell_type": "markdown",
   "id": "cc1f76ac",
   "metadata": {},
   "source": [
    "## Enviando o e-mail para todos os destinatarios:"
   ]
  },
  {
   "cell_type": "code",
   "execution_count": null,
   "id": "72fc066a",
   "metadata": {},
   "outputs": [],
   "source": [
    "for dado in dados:\n",
    "    destinatario = dado[2]\n",
    "    nf=dado[3]\n",
    "    prazo=dado[1]\n",
    "    prazo=prazo.strftime(\"%d/%m/%Y\")\n",
    "    valor=dado[0]\n",
    "    mensagem=outlook.CreateItem(0)\n",
    "    mensagem.Display() #Opcional\n",
    "    mensagem.To = destinatario\n",
    "    mensagem.Subject = 'Atraso no Pagamento'\n",
    "    mensagem.Body = f'''\n",
    "    Prezado Cliente,\n",
    "\n",
    "    Verificamos um atraso no pagamento referente a NF {nf} com vencimento em {prazo} e valor total de R${valor:.2f}.\n",
    "    Gostaríamos de verificar se há algum problema que necessite do auxílio da nossa equipe. \n",
    "\n",
    "    Em caso de dúvidas, é só entrar em contato com nosso time atráves do e-mail tecobreiautomaticamentecompython@gmail.com\n",
    "\n",
    "    \n",
    "    Att,\n",
    "    Davi Leyendecker - Financeiro\n",
    "    '''\n",
    "    mensagem._oleobj_.Invoke(*(64209,0,8,0,emissor))\n",
    "    mensagem.Save()\n",
    "    mensagem.Send()\n",
    "    "
   ]
  },
  {
   "cell_type": "code",
   "execution_count": null,
   "id": "a1df89f0",
   "metadata": {},
   "outputs": [],
   "source": []
  }
 ],
 "metadata": {
  "kernelspec": {
   "display_name": "Python 3 (ipykernel)",
   "language": "python",
   "name": "python3"
  },
  "language_info": {
   "codemirror_mode": {
    "name": "ipython",
    "version": 3
   },
   "file_extension": ".py",
   "mimetype": "text/x-python",
   "name": "python",
   "nbconvert_exporter": "python",
   "pygments_lexer": "ipython3",
   "version": "3.9.13"
  },
  "vscode": {
   "interpreter": {
    "hash": "12da7b54dfb1a39dfe59454c11bdcdd718d3b8a925283f49b87ef7003656dfc8"
   }
  }
 },
 "nbformat": 4,
 "nbformat_minor": 5
}
